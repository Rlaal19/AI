{
 "cells": [
  {
   "cell_type": "code",
   "execution_count": 1,
   "metadata": {},
   "outputs": [],
   "source": [
    "import pandas as pd\n",
    "from sklearn.model_selection import train_test_split\n",
    "from sklearn.linear_model import LogisticRegression\n",
    "from sklearn.metrics import confusion_matrix, accuracy_score, ConfusionMatrixDisplay\n",
    "from sklearn.multiclass import OneVsRestClassifier\n",
    "from sklearn.metrics import classification_report\n",
    "from imblearn.over_sampling import SMOTE\n",
    "import matplotlib.pyplot as plt"
   ]
  },
  {
   "cell_type": "code",
   "execution_count": 24,
   "metadata": {},
   "outputs": [
    {
     "name": "stdout",
     "output_type": "stream",
     "text": [
      "<class 'pandas.core.frame.DataFrame'>\n",
      "RangeIndex: 50000 entries, 0 to 49999\n",
      "Data columns (total 39 columns):\n",
      " #   Column                                    Non-Null Count  Dtype  \n",
      "---  ------                                    --------------  -----  \n",
      " 0   Gender_Female                             50000 non-null  bool   \n",
      " 1   Gender_Male                               50000 non-null  bool   \n",
      " 2   Smoking_0                                 50000 non-null  bool   \n",
      " 3   Smoking_1                                 50000 non-null  bool   \n",
      " 4   Alcohol_Consumption_0                     50000 non-null  bool   \n",
      " 5   Alcohol_Consumption_1                     50000 non-null  bool   \n",
      " 6   Physical_Activity_Level_High              50000 non-null  bool   \n",
      " 7   Physical_Activity_Level_Low               50000 non-null  bool   \n",
      " 8   Physical_Activity_Level_Moderate          50000 non-null  bool   \n",
      " 9   Diabetes_0                                50000 non-null  bool   \n",
      " 10  Diabetes_1                                50000 non-null  bool   \n",
      " 11  Hypertension_0                            50000 non-null  bool   \n",
      " 12  Hypertension_1                            50000 non-null  bool   \n",
      " 13  Family_History_0                          50000 non-null  bool   \n",
      " 14  Family_History_1                          50000 non-null  bool   \n",
      " 15  Stress_Level_High                         50000 non-null  bool   \n",
      " 16  Stress_Level_Low                          50000 non-null  bool   \n",
      " 17  Stress_Level_Moderate                     50000 non-null  bool   \n",
      " 18  Chest_Pain_Type_Asymptomatic              50000 non-null  bool   \n",
      " 19  Chest_Pain_Type_Atypical                  50000 non-null  bool   \n",
      " 20  Chest_Pain_Type_Non-anginal               50000 non-null  bool   \n",
      " 21  Chest_Pain_Type_Typical                   50000 non-null  bool   \n",
      " 22  Thalassemia_Fixed defect                  50000 non-null  bool   \n",
      " 23  Thalassemia_Normal                        50000 non-null  bool   \n",
      " 24  Thalassemia_Reversible defect             50000 non-null  bool   \n",
      " 25  Fasting_Blood_Sugar_0                     50000 non-null  bool   \n",
      " 26  Fasting_Blood_Sugar_1                     50000 non-null  bool   \n",
      " 27  ECG_Results_Left Ventricular Hypertrophy  50000 non-null  bool   \n",
      " 28  ECG_Results_Normal                        50000 non-null  bool   \n",
      " 29  ECG_Results_ST-T abnormality              50000 non-null  bool   \n",
      " 30  Exercise_Induced_Angina_0                 50000 non-null  bool   \n",
      " 31  Exercise_Induced_Angina_1                 50000 non-null  bool   \n",
      " 32  Age                                       50000 non-null  float64\n",
      " 33  BMI                                       50000 non-null  float64\n",
      " 34  Cholesterol_Level                         50000 non-null  float64\n",
      " 35  Resting_BP                                50000 non-null  float64\n",
      " 36  Heart_Rate                                50000 non-null  float64\n",
      " 37  Max_Heart_Rate_Achieved                   50000 non-null  float64\n",
      " 38  Heart_Attack_Risk                         50000 non-null  int64  \n",
      "dtypes: bool(32), float64(6), int64(1)\n",
      "memory usage: 4.2 MB\n"
     ]
    }
   ],
   "source": [
    "# load dataset\n",
    "data = pd.read_csv(\"./cleandata_one_hot_only_v2.csv\", header=0)\n",
    "data = data.drop('Unnamed: 0', axis=1)\n",
    "data.info()"
   ]
  },
  {
   "cell_type": "code",
   "execution_count": 25,
   "metadata": {},
   "outputs": [
    {
     "name": "stdout",
     "output_type": "stream",
     "text": [
      "<class 'pandas.core.frame.DataFrame'>\n",
      "RangeIndex: 50000 entries, 0 to 49999\n",
      "Data columns (total 38 columns):\n",
      " #   Column                                    Non-Null Count  Dtype  \n",
      "---  ------                                    --------------  -----  \n",
      " 0   Gender_Female                             50000 non-null  bool   \n",
      " 1   Gender_Male                               50000 non-null  bool   \n",
      " 2   Smoking_0                                 50000 non-null  bool   \n",
      " 3   Smoking_1                                 50000 non-null  bool   \n",
      " 4   Alcohol_Consumption_0                     50000 non-null  bool   \n",
      " 5   Alcohol_Consumption_1                     50000 non-null  bool   \n",
      " 6   Physical_Activity_Level_High              50000 non-null  bool   \n",
      " 7   Physical_Activity_Level_Low               50000 non-null  bool   \n",
      " 8   Physical_Activity_Level_Moderate          50000 non-null  bool   \n",
      " 9   Diabetes_0                                50000 non-null  bool   \n",
      " 10  Diabetes_1                                50000 non-null  bool   \n",
      " 11  Hypertension_0                            50000 non-null  bool   \n",
      " 12  Hypertension_1                            50000 non-null  bool   \n",
      " 13  Family_History_0                          50000 non-null  bool   \n",
      " 14  Family_History_1                          50000 non-null  bool   \n",
      " 15  Stress_Level_High                         50000 non-null  bool   \n",
      " 16  Stress_Level_Low                          50000 non-null  bool   \n",
      " 17  Stress_Level_Moderate                     50000 non-null  bool   \n",
      " 18  Chest_Pain_Type_Asymptomatic              50000 non-null  bool   \n",
      " 19  Chest_Pain_Type_Atypical                  50000 non-null  bool   \n",
      " 20  Chest_Pain_Type_Non-anginal               50000 non-null  bool   \n",
      " 21  Chest_Pain_Type_Typical                   50000 non-null  bool   \n",
      " 22  Thalassemia_Fixed defect                  50000 non-null  bool   \n",
      " 23  Thalassemia_Normal                        50000 non-null  bool   \n",
      " 24  Thalassemia_Reversible defect             50000 non-null  bool   \n",
      " 25  Fasting_Blood_Sugar_0                     50000 non-null  bool   \n",
      " 26  Fasting_Blood_Sugar_1                     50000 non-null  bool   \n",
      " 27  ECG_Results_Left Ventricular Hypertrophy  50000 non-null  bool   \n",
      " 28  ECG_Results_Normal                        50000 non-null  bool   \n",
      " 29  ECG_Results_ST-T abnormality              50000 non-null  bool   \n",
      " 30  Exercise_Induced_Angina_0                 50000 non-null  bool   \n",
      " 31  Exercise_Induced_Angina_1                 50000 non-null  bool   \n",
      " 32  Age                                       50000 non-null  float64\n",
      " 33  BMI                                       50000 non-null  float64\n",
      " 34  Cholesterol_Level                         50000 non-null  float64\n",
      " 35  Resting_BP                                50000 non-null  float64\n",
      " 36  Heart_Rate                                50000 non-null  float64\n",
      " 37  Max_Heart_Rate_Achieved                   50000 non-null  float64\n",
      "dtypes: bool(32), float64(6)\n",
      "memory usage: 3.8 MB\n"
     ]
    }
   ],
   "source": [
    "X = data.drop('Heart_Attack_Risk', axis=1)\n",
    "X.info()"
   ]
  },
  {
   "cell_type": "code",
   "execution_count": 26,
   "metadata": {},
   "outputs": [
    {
     "name": "stdout",
     "output_type": "stream",
     "text": [
      "<class 'pandas.core.series.Series'>\n",
      "RangeIndex: 50000 entries, 0 to 49999\n",
      "Series name: Heart_Attack_Risk\n",
      "Non-Null Count  Dtype\n",
      "--------------  -----\n",
      "50000 non-null  int64\n",
      "dtypes: int64(1)\n",
      "memory usage: 390.8 KB\n",
      "Number of NaN values: 0\n"
     ]
    }
   ],
   "source": [
    "y = data['Heart_Attack_Risk'] # Target variable\n",
    "y.info()\n",
    "nan_count = y.isnull().sum().sum()\n",
    "print('Number of NaN values:', nan_count)"
   ]
  },
  {
   "cell_type": "code",
   "execution_count": 27,
   "metadata": {},
   "outputs": [],
   "source": [
    "# smote = SMOTE(random_state=0)\n",
    "# X_sampled, y_sampled = smote.fit_resample(X,y)\n",
    "X_train, X_test, y_train, y_test = train_test_split(X, y, test_size=0.3, random_state=42)"
   ]
  },
  {
   "cell_type": "code",
   "execution_count": 28,
   "metadata": {},
   "outputs": [],
   "source": [
    "model =OneVsRestClassifier(LogisticRegression( solver='lbfgs', max_iter=1000, class_weight='balanced'))\n",
    "model.fit(X_train, y_train)\n",
    "yhat = model.predict(X_test)\n"
   ]
  },
  {
   "cell_type": "code",
   "execution_count": 29,
   "metadata": {},
   "outputs": [
    {
     "name": "stdout",
     "output_type": "stream",
     "text": [
      "[[3891 3676]\n",
      " [3710 3723]]\n",
      "0.5076\n"
     ]
    }
   ],
   "source": [
    "print(confusion_matrix(y_test, yhat))\n",
    "print(accuracy_score(y_test, yhat))"
   ]
  },
  {
   "cell_type": "code",
   "execution_count": 30,
   "metadata": {},
   "outputs": [
    {
     "data": {
      "image/png": "[encoded data removed]",
      "text/plain": [
       "<Figure size 640x480 with 2 Axes>"
      ]
     },
     "metadata": {},
     "output_type": "display_data"
    }
   ],
   "source": [
    "cm = confusion_matrix(y_test, yhat, labels=model.classes_)\n",
    "disp = ConfusionMatrixDisplay(confusion_matrix=cm, display_labels=model.classes_)\n",
    "disp.plot()\n",
    "plt.show()"
   ]
  },
  {
   "cell_type": "code",
   "execution_count": 31,
   "metadata": {},
   "outputs": [
    {
     "name": "stdout",
     "output_type": "stream",
     "text": [
      "              precision    recall  f1-score   support\n",
      "\n",
      "           0       0.51      0.51      0.51      7567\n",
      "           1       0.50      0.50      0.50      7433\n",
      "\n",
      "    accuracy                           0.51     15000\n",
      "   macro avg       0.51      0.51      0.51     15000\n",
      "weighted avg       0.51      0.51      0.51     15000\n",
      "\n"
     ]
    }
   ],
   "source": [
    "print(classification_report(y_test, yhat))"
   ]
  },
  {
   "cell_type": "code",
   "execution_count": 32,
   "metadata": {},
   "outputs": [
    {
     "name": "stdout",
     "output_type": "stream",
     "text": [
      "Accuracy scores: [0.505  0.5098 0.5022 0.4978 0.4958 0.4938 0.495  0.5062 0.5054 0.4928]\n",
      "Mean Accuracy: 0.5004\n"
     ]
    }
   ],
   "source": [
    "from sklearn.model_selection import cross_val_score \n",
    "scores = cross_val_score(model, X, y, cv=10, scoring='accuracy')\n",
    "print(f'Accuracy scores: {scores}')\n",
    "print(f'Mean Accuracy: {scores.mean():.4f}')"
   ]
  }
 ],
 "metadata": {
  "kernelspec": {
   "display_name": "env",
   "language": "python",
   "name": "python3"
  },
  "language_info": {
   "codemirror_mode": {
    "name": "ipython",
    "version": 3
   },
   "file_extension": ".py",
   "mimetype": "text/x-python",
   "name": "python",
   "nbconvert_exporter": "python",
   "pygments_lexer": "ipython3",
   "version": "3.12.7"
  }
 },
 "nbformat": 4,
 "nbformat_minor": 2
}
