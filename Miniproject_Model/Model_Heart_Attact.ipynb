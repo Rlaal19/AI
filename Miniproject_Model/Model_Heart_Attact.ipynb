{
 "cells": [
  {
   "cell_type": "code",
   "execution_count": 14,
   "metadata": {},
   "outputs": [],
   "source": [
    "import pandas as pd\n",
    "from sklearn.model_selection import train_test_split\n",
    "from sklearn.linear_model import LogisticRegression\n",
    "from sklearn.metrics import confusion_matrix, accuracy_score, ConfusionMatrixDisplay\n",
    "from sklearn.multiclass import OneVsRestClassifier\n",
    "from sklearn.metrics import classification_report\n",
    "from imblearn.over_sampling import SMOTE\n",
    "import matplotlib.pyplot as plt"
   ]
  },
  {
   "cell_type": "code",
   "execution_count": 15,
   "metadata": {},
   "outputs": [
    {
     "name": "stdout",
     "output_type": "stream",
     "text": [
      "<class 'pandas.core.frame.DataFrame'>\n",
      "RangeIndex: 50000 entries, 0 to 49999\n",
      "Data columns (total 39 columns):\n",
      " #   Column                                    Non-Null Count  Dtype  \n",
      "---  ------                                    --------------  -----  \n",
      " 0   Gender_Female                             50000 non-null  bool   \n",
      " 1   Gender_Male                               50000 non-null  bool   \n",
      " 2   Smoking_0                                 50000 non-null  bool   \n",
      " 3   Smoking_1                                 50000 non-null  bool   \n",
      " 4   Alcohol_Consumption_0                     50000 non-null  bool   \n",
      " 5   Alcohol_Consumption_1                     50000 non-null  bool   \n",
      " 6   Physical_Activity_Level_High              50000 non-null  bool   \n",
      " 7   Physical_Activity_Level_Low               50000 non-null  bool   \n",
      " 8   Physical_Activity_Level_Moderate          50000 non-null  bool   \n",
      " 9   Diabetes_0                                50000 non-null  bool   \n",
      " 10  Diabetes_1                                50000 non-null  bool   \n",
      " 11  Hypertension_0                            50000 non-null  bool   \n",
      " 12  Hypertension_1                            50000 non-null  bool   \n",
      " 13  Family_History_0                          50000 non-null  bool   \n",
      " 14  Family_History_1                          50000 non-null  bool   \n",
      " 15  Stress_Level_High                         50000 non-null  bool   \n",
      " 16  Stress_Level_Low                          50000 non-null  bool   \n",
      " 17  Stress_Level_Moderate                     50000 non-null  bool   \n",
      " 18  Chest_Pain_Type_Asymptomatic              50000 non-null  bool   \n",
      " 19  Chest_Pain_Type_Atypical                  50000 non-null  bool   \n",
      " 20  Chest_Pain_Type_Non-anginal               50000 non-null  bool   \n",
      " 21  Chest_Pain_Type_Typical                   50000 non-null  bool   \n",
      " 22  Thalassemia_Fixed defect                  50000 non-null  bool   \n",
      " 23  Thalassemia_Normal                        50000 non-null  bool   \n",
      " 24  Thalassemia_Reversible defect             50000 non-null  bool   \n",
      " 25  Fasting_Blood_Sugar_0                     50000 non-null  bool   \n",
      " 26  Fasting_Blood_Sugar_1                     50000 non-null  bool   \n",
      " 27  ECG_Results_Left Ventricular Hypertrophy  50000 non-null  bool   \n",
      " 28  ECG_Results_Normal                        50000 non-null  bool   \n",
      " 29  ECG_Results_ST-T abnormality              50000 non-null  bool   \n",
      " 30  Exercise_Induced_Angina_0                 50000 non-null  bool   \n",
      " 31  Exercise_Induced_Angina_1                 50000 non-null  bool   \n",
      " 32  Age                                       50000 non-null  float64\n",
      " 33  BMI                                       50000 non-null  float64\n",
      " 34  Cholesterol_Level                         50000 non-null  float64\n",
      " 35  Resting_BP                                50000 non-null  float64\n",
      " 36  Heart_Rate                                50000 non-null  float64\n",
      " 37  Max_Heart_Rate_Achieved                   50000 non-null  float64\n",
      " 38  Heart_Attack_Risk                         50000 non-null  int64  \n",
      "dtypes: bool(32), float64(6), int64(1)\n",
      "memory usage: 4.2 MB\n"
     ]
    }
   ],
   "source": [
    "# load dataset\n",
    "data = pd.read_csv(\"./cleandata_one_hot_only.csv\", header=0)\n",
    "data = data.drop('Unnamed: 0', axis=1)\n",
    "data.info()"
   ]
  },
  {
   "cell_type": "code",
   "execution_count": 16,
   "metadata": {},
   "outputs": [
    {
     "name": "stdout",
     "output_type": "stream",
     "text": [
      "<class 'pandas.core.frame.DataFrame'>\n",
      "RangeIndex: 50000 entries, 0 to 49999\n",
      "Data columns (total 38 columns):\n",
      " #   Column                                    Non-Null Count  Dtype  \n",
      "---  ------                                    --------------  -----  \n",
      " 0   Gender_Female                             50000 non-null  bool   \n",
      " 1   Gender_Male                               50000 non-null  bool   \n",
      " 2   Smoking_0                                 50000 non-null  bool   \n",
      " 3   Smoking_1                                 50000 non-null  bool   \n",
      " 4   Alcohol_Consumption_0                     50000 non-null  bool   \n",
      " 5   Alcohol_Consumption_1                     50000 non-null  bool   \n",
      " 6   Physical_Activity_Level_High              50000 non-null  bool   \n",
      " 7   Physical_Activity_Level_Low               50000 non-null  bool   \n",
      " 8   Physical_Activity_Level_Moderate          50000 non-null  bool   \n",
      " 9   Diabetes_0                                50000 non-null  bool   \n",
      " 10  Diabetes_1                                50000 non-null  bool   \n",
      " 11  Hypertension_0                            50000 non-null  bool   \n",
      " 12  Hypertension_1                            50000 non-null  bool   \n",
      " 13  Family_History_0                          50000 non-null  bool   \n",
      " 14  Family_History_1                          50000 non-null  bool   \n",
      " 15  Stress_Level_High                         50000 non-null  bool   \n",
      " 16  Stress_Level_Low                          50000 non-null  bool   \n",
      " 17  Stress_Level_Moderate                     50000 non-null  bool   \n",
      " 18  Chest_Pain_Type_Asymptomatic              50000 non-null  bool   \n",
      " 19  Chest_Pain_Type_Atypical                  50000 non-null  bool   \n",
      " 20  Chest_Pain_Type_Non-anginal               50000 non-null  bool   \n",
      " 21  Chest_Pain_Type_Typical                   50000 non-null  bool   \n",
      " 22  Thalassemia_Fixed defect                  50000 non-null  bool   \n",
      " 23  Thalassemia_Normal                        50000 non-null  bool   \n",
      " 24  Thalassemia_Reversible defect             50000 non-null  bool   \n",
      " 25  Fasting_Blood_Sugar_0                     50000 non-null  bool   \n",
      " 26  Fasting_Blood_Sugar_1                     50000 non-null  bool   \n",
      " 27  ECG_Results_Left Ventricular Hypertrophy  50000 non-null  bool   \n",
      " 28  ECG_Results_Normal                        50000 non-null  bool   \n",
      " 29  ECG_Results_ST-T abnormality              50000 non-null  bool   \n",
      " 30  Exercise_Induced_Angina_0                 50000 non-null  bool   \n",
      " 31  Exercise_Induced_Angina_1                 50000 non-null  bool   \n",
      " 32  Age                                       50000 non-null  float64\n",
      " 33  BMI                                       50000 non-null  float64\n",
      " 34  Cholesterol_Level                         50000 non-null  float64\n",
      " 35  Resting_BP                                50000 non-null  float64\n",
      " 36  Heart_Rate                                50000 non-null  float64\n",
      " 37  Max_Heart_Rate_Achieved                   50000 non-null  float64\n",
      "dtypes: bool(32), float64(6)\n",
      "memory usage: 3.8 MB\n"
     ]
    }
   ],
   "source": [
    "X = data.drop('Heart_Attack_Risk', axis=1)\n",
    "X.info()"
   ]
  },
  {
   "cell_type": "code",
   "execution_count": 17,
   "metadata": {},
   "outputs": [
    {
     "name": "stdout",
     "output_type": "stream",
     "text": [
      "<class 'pandas.core.series.Series'>\n",
      "RangeIndex: 50000 entries, 0 to 49999\n",
      "Series name: Heart_Attack_Risk\n",
      "Non-Null Count  Dtype\n",
      "--------------  -----\n",
      "50000 non-null  int64\n",
      "dtypes: int64(1)\n",
      "memory usage: 390.8 KB\n",
      "Number of NaN values: 0\n"
     ]
    }
   ],
   "source": [
    "y = data['Heart_Attack_Risk'] # Target variable\n",
    "y.info()\n",
    "nan_count = y.isnull().sum().sum()\n",
    "print('Number of NaN values:', nan_count)"
   ]
  },
  {
   "cell_type": "markdown",
   "metadata": {},
   "source": [
    "แบบไม่ทำ balance data"
   ]
  },
  {
   "cell_type": "code",
   "execution_count": 18,
   "metadata": {},
   "outputs": [],
   "source": [
    "X_train, X_test, y_train, y_test = train_test_split(X, y, test_size=0.3, random_state=42)"
   ]
  },
  {
   "cell_type": "code",
   "execution_count": 19,
   "metadata": {},
   "outputs": [],
   "source": [
    "model =OneVsRestClassifier(LogisticRegression( solver='lbfgs', max_iter=1000))\n",
    "model.fit(X_train, y_train)\n",
    "yhat = model.predict(X_test)\n"
   ]
  },
  {
   "cell_type": "code",
   "execution_count": 20,
   "metadata": {},
   "outputs": [
    {
     "data": {
      "image/png": "[encoded data removed]",
      "text/plain": [
       "<Figure size 640x480 with 2 Axes>"
      ]
     },
     "metadata": {},
     "output_type": "display_data"
    },
    {
     "name": "stdout",
     "output_type": "stream",
     "text": [
      "accuracy_score:  0.5044666666666666\n"
     ]
    }
   ],
   "source": [
    "cm = confusion_matrix(y_test, yhat, labels=model.classes_)\n",
    "disp = ConfusionMatrixDisplay(confusion_matrix=cm, display_labels=model.classes_)\n",
    "disp.plot()\n",
    "plt.show()\n",
    "print('accuracy_score: ',accuracy_score(y_test, yhat))"
   ]
  },
  {
   "cell_type": "code",
   "execution_count": 21,
   "metadata": {},
   "outputs": [
    {
     "name": "stdout",
     "output_type": "stream",
     "text": [
      "              precision    recall  f1-score   support\n",
      "\n",
      "           0       0.50      1.00      0.67      7567\n",
      "           1       0.00      0.00      0.00      4447\n",
      "           2       0.00      0.00      0.00      2986\n",
      "\n",
      "    accuracy                           0.50     15000\n",
      "   macro avg       0.17      0.33      0.22     15000\n",
      "weighted avg       0.25      0.50      0.34     15000\n",
      "\n"
     ]
    },
    {
     "name": "stderr",
     "output_type": "stream",
     "text": [
      "/Users/parichaya23icloud.com/Desktop/AI/env/lib/python3.12/site-packages/sklearn/metrics/_classification.py:1565: UndefinedMetricWarning: Precision is ill-defined and being set to 0.0 in labels with no predicted samples. Use `zero_division` parameter to control this behavior.\n",
      "  _warn_prf(average, modifier, f\"{metric.capitalize()} is\", len(result))\n",
      "/Users/parichaya23icloud.com/Desktop/AI/env/lib/python3.12/site-packages/sklearn/metrics/_classification.py:1565: UndefinedMetricWarning: Precision is ill-defined and being set to 0.0 in labels with no predicted samples. Use `zero_division` parameter to control this behavior.\n",
      "  _warn_prf(average, modifier, f\"{metric.capitalize()} is\", len(result))\n",
      "/Users/parichaya23icloud.com/Desktop/AI/env/lib/python3.12/site-packages/sklearn/metrics/_classification.py:1565: UndefinedMetricWarning: Precision is ill-defined and being set to 0.0 in labels with no predicted samples. Use `zero_division` parameter to control this behavior.\n",
      "  _warn_prf(average, modifier, f\"{metric.capitalize()} is\", len(result))\n"
     ]
    }
   ],
   "source": [
    "print(classification_report(y_test, yhat))"
   ]
  },
  {
   "cell_type": "code",
   "execution_count": 22,
   "metadata": {},
   "outputs": [
    {
     "name": "stdout",
     "output_type": "stream",
     "text": [
      "Accuracy scores: [0.5006 0.5006 0.5006 0.5006 0.5004 0.5004 0.5004 0.5004 0.5004 0.5004]\n",
      "Mean Accuracy: 0.5005\n"
     ]
    }
   ],
   "source": [
    "from sklearn.model_selection import cross_val_score \n",
    "scores = cross_val_score(model, X, y, cv=10, scoring='accuracy')\n",
    "print(f'Accuracy scores: {scores}')\n",
    "print(f'Mean Accuracy: {scores.mean():.4f}')"
   ]
  },
  {
   "cell_type": "markdown",
   "metadata": {},
   "source": [
    "แบบทำ balance data"
   ]
  },
  {
   "cell_type": "code",
   "execution_count": 23,
   "metadata": {},
   "outputs": [],
   "source": [
    "smote = SMOTE(random_state=0)\n",
    "X_sampled, y_sampled = smote.fit_resample(X,y)\n",
    "X_train, X_test, y_train, y_test = train_test_split(X, y, test_size=0.3, random_state=42)"
   ]
  },
  {
   "cell_type": "code",
   "execution_count": 24,
   "metadata": {},
   "outputs": [],
   "source": [
    "model =OneVsRestClassifier(LogisticRegression( solver='lbfgs', max_iter=1000, class_weight='balanced'))\n",
    "model.fit(X_train, y_train)\n",
    "yhat = model.predict(X_test)"
   ]
  },
  {
   "cell_type": "code",
   "execution_count": 25,
   "metadata": {},
   "outputs": [
    {
     "data": {
      "image/png": "[encoded data removed]",
      "text/plain": [
       "<Figure size 640x480 with 2 Axes>"
      ]
     },
     "metadata": {},
     "output_type": "display_data"
    },
    {
     "name": "stdout",
     "output_type": "stream",
     "text": [
      "accuracy_score:  0.3204666666666667\n"
     ]
    }
   ],
   "source": [
    "cm = confusion_matrix(y_test, yhat, labels=model.classes_)\n",
    "disp = ConfusionMatrixDisplay(confusion_matrix=cm, display_labels=model.classes_)\n",
    "disp.plot()\n",
    "plt.show()\n",
    "print('accuracy_score: ',accuracy_score(y_test, yhat))"
   ]
  },
  {
   "cell_type": "code",
   "execution_count": 26,
   "metadata": {},
   "outputs": [
    {
     "name": "stdout",
     "output_type": "stream",
     "text": [
      "              precision    recall  f1-score   support\n",
      "\n",
      "           0       0.51      0.28      0.36      7567\n",
      "           1       0.30      0.35      0.32      4447\n",
      "           2       0.20      0.38      0.26      2986\n",
      "\n",
      "    accuracy                           0.32     15000\n",
      "   macro avg       0.34      0.34      0.32     15000\n",
      "weighted avg       0.39      0.32      0.33     15000\n",
      "\n"
     ]
    }
   ],
   "source": [
    "print(classification_report(y_test, yhat))"
   ]
  }
 ],
 "metadata": {
  "kernelspec": {
   "display_name": "env",
   "language": "python",
   "name": "python3"
  },
  "language_info": {
   "codemirror_mode": {
    "name": "ipython",
    "version": 3
   },
   "file_extension": ".py",
   "mimetype": "text/x-python",
   "name": "python",
   "nbconvert_exporter": "python",
   "pygments_lexer": "ipython3",
   "version": "3.12.7"
  }
 },
 "nbformat": 4,
 "nbformat_minor": 2
}
