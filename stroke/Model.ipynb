{
 "cells": [
  {
   "cell_type": "code",
   "execution_count": 13,
   "metadata": {},
   "outputs": [],
   "source": [
    "import pandas as pd\n",
    "from sklearn.model_selection import train_test_split\n",
    "from sklearn.linear_model import LogisticRegression\n",
    "from sklearn.metrics import confusion_matrix, accuracy_score, ConfusionMatrixDisplay\n",
    "from sklearn.multiclass import OneVsRestClassifier\n",
    "from sklearn.metrics import classification_report\n",
    "from imblearn.over_sampling import SMOTE\n",
    "import matplotlib.pyplot as plt"
   ]
  },
  {
   "cell_type": "code",
   "execution_count": 14,
   "metadata": {},
   "outputs": [
    {
     "name": "stdout",
     "output_type": "stream",
     "text": [
      "<class 'pandas.core.frame.DataFrame'>\n",
      "RangeIndex: 3656 entries, 0 to 3655\n",
      "Data columns (total 25 columns):\n",
      " #   Column                   Non-Null Count  Dtype  \n",
      "---  ------                   --------------  -----  \n",
      " 0   Gender_Female            3656 non-null   bool   \n",
      " 1   Gender_Male              3656 non-null   bool   \n",
      " 2   education_graduate       3656 non-null   bool   \n",
      " 3   education_postgraduate   3656 non-null   bool   \n",
      " 4   education_primaryschool  3656 non-null   bool   \n",
      " 5   education_uneducated     3656 non-null   bool   \n",
      " 6   currentSmoker_0          3656 non-null   bool   \n",
      " 7   currentSmoker_1          3656 non-null   bool   \n",
      " 8   BPMeds_0.0               3656 non-null   bool   \n",
      " 9   BPMeds_1.0               3656 non-null   bool   \n",
      " 10  prevalentStroke_no       3656 non-null   bool   \n",
      " 11  prevalentStroke_yes      3656 non-null   bool   \n",
      " 12  prevalentHyp_0           3656 non-null   bool   \n",
      " 13  prevalentHyp_1           3656 non-null   bool   \n",
      " 14  diabetes_0               3656 non-null   bool   \n",
      " 15  diabetes_1               3656 non-null   bool   \n",
      " 16  age                      3656 non-null   float64\n",
      " 17  cigsPerDay               3656 non-null   float64\n",
      " 18  totChol                  3656 non-null   float64\n",
      " 19  sysBP                    3656 non-null   float64\n",
      " 20  diaBP                    3656 non-null   float64\n",
      " 21  BMI                      3656 non-null   float64\n",
      " 22  heartRate                3656 non-null   float64\n",
      " 23  glucose                  3656 non-null   float64\n",
      " 24  Heart_stroke             3656 non-null   int64  \n",
      "dtypes: bool(16), float64(8), int64(1)\n",
      "memory usage: 314.3 KB\n"
     ]
    }
   ],
   "source": [
    "# load dataset\n",
    "data = pd.read_csv(\"./cleandata_one_hot_only.csv\", header=0)\n",
    "data = data.drop('Unnamed: 0', axis=1)\n",
    "data.info()"
   ]
  },
  {
   "cell_type": "code",
   "execution_count": 15,
   "metadata": {},
   "outputs": [
    {
     "name": "stdout",
     "output_type": "stream",
     "text": [
      "<class 'pandas.core.frame.DataFrame'>\n",
      "RangeIndex: 3656 entries, 0 to 3655\n",
      "Data columns (total 24 columns):\n",
      " #   Column                   Non-Null Count  Dtype  \n",
      "---  ------                   --------------  -----  \n",
      " 0   Gender_Female            3656 non-null   bool   \n",
      " 1   Gender_Male              3656 non-null   bool   \n",
      " 2   education_graduate       3656 non-null   bool   \n",
      " 3   education_postgraduate   3656 non-null   bool   \n",
      " 4   education_primaryschool  3656 non-null   bool   \n",
      " 5   education_uneducated     3656 non-null   bool   \n",
      " 6   currentSmoker_0          3656 non-null   bool   \n",
      " 7   currentSmoker_1          3656 non-null   bool   \n",
      " 8   BPMeds_0.0               3656 non-null   bool   \n",
      " 9   BPMeds_1.0               3656 non-null   bool   \n",
      " 10  prevalentStroke_no       3656 non-null   bool   \n",
      " 11  prevalentStroke_yes      3656 non-null   bool   \n",
      " 12  prevalentHyp_0           3656 non-null   bool   \n",
      " 13  prevalentHyp_1           3656 non-null   bool   \n",
      " 14  diabetes_0               3656 non-null   bool   \n",
      " 15  diabetes_1               3656 non-null   bool   \n",
      " 16  age                      3656 non-null   float64\n",
      " 17  cigsPerDay               3656 non-null   float64\n",
      " 18  totChol                  3656 non-null   float64\n",
      " 19  sysBP                    3656 non-null   float64\n",
      " 20  diaBP                    3656 non-null   float64\n",
      " 21  BMI                      3656 non-null   float64\n",
      " 22  heartRate                3656 non-null   float64\n",
      " 23  glucose                  3656 non-null   float64\n",
      "dtypes: bool(16), float64(8)\n",
      "memory usage: 285.8 KB\n"
     ]
    }
   ],
   "source": [
    "X = data.drop('Heart_stroke', axis=1)\n",
    "X.info()"
   ]
  },
  {
   "cell_type": "code",
   "execution_count": 16,
   "metadata": {},
   "outputs": [
    {
     "name": "stdout",
     "output_type": "stream",
     "text": [
      "<class 'pandas.core.series.Series'>\n",
      "RangeIndex: 3656 entries, 0 to 3655\n",
      "Series name: Heart_stroke\n",
      "Non-Null Count  Dtype\n",
      "--------------  -----\n",
      "3656 non-null   int64\n",
      "dtypes: int64(1)\n",
      "memory usage: 28.7 KB\n",
      "Number of NaN values: 0\n"
     ]
    }
   ],
   "source": [
    "y = data['Heart_stroke'] # Target variable\n",
    "y.info()\n",
    "nan_count = y.isnull().sum().sum()\n",
    "print('Number of NaN values:', nan_count)"
   ]
  },
  {
   "cell_type": "code",
   "execution_count": 17,
   "metadata": {},
   "outputs": [],
   "source": [
    "# smote = SMOTE(random_state=0)\n",
    "# X_sampled, y_sampled = smote.fit_resample(X,y)\n",
    "X_train, X_test, y_train, y_test = train_test_split(X, y, test_size=0.3, random_state=42)"
   ]
  },
  {
   "cell_type": "code",
   "execution_count": 18,
   "metadata": {},
   "outputs": [],
   "source": [
    "model =OneVsRestClassifier(LogisticRegression( solver='lbfgs', max_iter=1000))\n",
    "model.fit(X_train, y_train)\n",
    "yhat = model.predict(X_test)\n"
   ]
  },
  {
   "cell_type": "code",
   "execution_count": 19,
   "metadata": {},
   "outputs": [
    {
     "name": "stdout",
     "output_type": "stream",
     "text": [
      "[[913  10]\n",
      " [157  17]]\n",
      "0.8477666362807658\n"
     ]
    }
   ],
   "source": [
    "print(confusion_matrix(y_test, yhat))\n",
    "print(accuracy_score(y_test, yhat))"
   ]
  },
  {
   "cell_type": "code",
   "execution_count": 20,
   "metadata": {},
   "outputs": [
    {
     "data": {
      "image/png": "[encoded data removed]",
      "text/plain": [
       "<Figure size 640x480 with 2 Axes>"
      ]
     },
     "metadata": {},
     "output_type": "display_data"
    }
   ],
   "source": [
    "cm = confusion_matrix(y_test, yhat, labels=model.classes_)\n",
    "disp = ConfusionMatrixDisplay(confusion_matrix=cm, display_labels=model.classes_)\n",
    "disp.plot()\n",
    "plt.show()"
   ]
  },
  {
   "cell_type": "code",
   "execution_count": 21,
   "metadata": {},
   "outputs": [
    {
     "name": "stdout",
     "output_type": "stream",
     "text": [
      "              precision    recall  f1-score   support\n",
      "\n",
      "           0       0.85      0.99      0.92       923\n",
      "           1       0.63      0.10      0.17       174\n",
      "\n",
      "    accuracy                           0.85      1097\n",
      "   macro avg       0.74      0.54      0.54      1097\n",
      "weighted avg       0.82      0.85      0.80      1097\n",
      "\n"
     ]
    }
   ],
   "source": [
    "print(classification_report(y_test, yhat))"
   ]
  },
  {
   "cell_type": "code",
   "execution_count": 24,
   "metadata": {},
   "outputs": [
    {
     "data": {
      "text/plain": [
       "0.853669436335055"
      ]
     },
     "execution_count": 24,
     "metadata": {},
     "output_type": "execute_result"
    }
   ],
   "source": [
    "from sklearn.model_selection import cross_val_score \n",
    "scores = cross_val_score(model, X, y, cv=10, scoring='accuracy')\n",
    "scores\n",
    "scores.mean()"
   ]
  }
 ],
 "metadata": {
  "kernelspec": {
   "display_name": "env",
   "language": "python",
   "name": "python3"
  },
  "language_info": {
   "codemirror_mode": {
    "name": "ipython",
    "version": 3
   },
   "file_extension": ".py",
   "mimetype": "text/x-python",
   "name": "python",
   "nbconvert_exporter": "python",
   "pygments_lexer": "ipython3",
   "version": "3.12.7"
  }
 },
 "nbformat": 4,
 "nbformat_minor": 2
}
